{
 "cells": [
  {
   "cell_type": "markdown",
   "metadata": {},
   "source": [
    "## DBpedia catalogue for books\n",
    "### Welcome!\n",
    "What follows is an application that allows you to extract metadata about a book of your choosing. The following metadata will be presented to you (if available):\n",
    "- Name of the author\n",
    "- Name of the publisher\n",
    "- Publication data\n",
    "- Number of pages\n",
    "- Genre\n",
    "\n",
    "Finally, an abstract of the book will be shown (if available).\n",
    "\n",
    "To use the application, run the following code block and follow the instructions. You can re-run the cell for a new booksearch. If an error is raised, the error message will inform you what went wrong and you can try again by re-running the cell."
   ]
  },
  {
   "cell_type": "code",
   "execution_count": 6,
   "metadata": {},
   "outputs": [
    {
     "name": "stdout",
     "output_type": "stream",
     "text": [
      "What booktitle would you like to search for? Origin of Species\n",
      "There are multiple titles available. Please select 1 by entering their index\n",
      "- 0 : On the Origin of Species\n",
      "- 1 : Genetics and the Origin of Species\n",
      "Which book do you choose? 0\n",
      "Results for 'On the Origin of Species':\n",
      "- AUTHOR: Charles Darwin\n",
      "-> for more info see http://dbpedia.org/resource/Charles_Darwin\n",
      "- PUBLISHER: not found\n",
      "- PUBLISHER_RESOURCE: not found\n",
      "- PUBLICATION DATE: 1859-11-24\n",
      "- NUMBER OF PAGES: 502\n",
      "- GENRE: not found\n",
      "- ABSTRACT: \n",
      "On the Origin of Species (or, more completely, On the Origin of Species by Means of Natural Selection, or the Preservation of Favoured Races in the Struggle for Life), published on 24 November 1859, is a work of scientific literature by Charles Darwin which is considered to be the foundation of evolutionary biology. Darwin's book introduced the scientific theory that populations evolve over the course of generations through a process of natural selection. The book presented a body of evidence that the diversity of life arose by common descent through a branching pattern of evolution. Darwin included evidence that he had collected on the Beagle expedition in the 1830s and his subsequent findings from research, correspondence, and experimentation. Various evolutionary ideas had already been proposed to explain new findings in biology. There was growing support for such ideas among dissident anatomists and the general public, but during the first half of the 19th century the English scientific establishment was closely tied to the Church of England, while science was part of natural theology. Ideas about the transmutation of species were controversial as they conflicted with the beliefs that species were unchanging parts of a designed hierarchy and that humans were unique, unrelated to other animals. The political and theological implications were intensely debated, but transmutation was not accepted by the scientific mainstream. The book was written for non-specialist readers and attracted widespread interest upon its publication. As Darwin was an eminent scientist, his findings were taken seriously and the evidence he presented generated scientific, philosophical, and religious discussion. The debate over the book contributed to the campaign by T. H. Huxley and his fellow members of the X Club to secularise science by promoting scientific naturalism. Within two decades there was widespread scientific agreement that evolution, with a branching pattern of common descent, had occurred, but scientists were slow to give natural selection the significance that Darwin thought appropriate. During \"the eclipse of Darwinism\" from the 1880s to the 1930s, various other mechanisms of evolution were given more credit. With the development of the modern evolutionary synthesis in the 1930s and 1940s, Darwin's concept of evolutionary adaptation through natural selection became central to modern evolutionary theory, and it has now become the unifying concept of the life sciences.\n"
     ]
    }
   ],
   "source": [
    "from VandenStock_DBpedia import query_DBpedia\n",
    "search = input(\"What booktitle would you like to search for? \")\n",
    "query_DBpedia(search)"
   ]
  },
  {
   "cell_type": "code",
   "execution_count": null,
   "metadata": {},
   "outputs": [],
   "source": []
  }
 ],
 "metadata": {
  "kernelspec": {
   "display_name": "Python 3",
   "language": "python",
   "name": "python3"
  },
  "language_info": {
   "codemirror_mode": {
    "name": "ipython",
    "version": 3
   },
   "file_extension": ".py",
   "mimetype": "text/x-python",
   "name": "python",
   "nbconvert_exporter": "python",
   "pygments_lexer": "ipython3",
   "version": "3.8.3"
  }
 },
 "nbformat": 4,
 "nbformat_minor": 4
}
